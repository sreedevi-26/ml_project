{
 "cells": [
  {
   "cell_type": "code",
   "execution_count": 1,
   "id": "c66f6a9b-143f-4623-8402-305a70bc5581",
   "metadata": {},
   "outputs": [],
   "source": [
    "import pandas as pd"
   ]
  },
  {
   "cell_type": "code",
   "execution_count": 4,
   "id": "92b1c4bd-c18d-438e-8bc4-5040d69630cf",
   "metadata": {},
   "outputs": [],
   "source": [
    "df=pd.read_csv('weapons_data.csv')"
   ]
  },
  {
   "cell_type": "code",
   "execution_count": 5,
   "id": "fcadb991-09ee-4409-93cc-1c4746b7ec43",
   "metadata": {},
   "outputs": [
    {
     "data": {
      "text/plain": [
       "(68, 5)"
      ]
     },
     "execution_count": 5,
     "metadata": {},
     "output_type": "execute_result"
    }
   ],
   "source": [
    "df.shape"
   ]
  },
  {
   "cell_type": "code",
   "execution_count": 6,
   "id": "23edd8d7-b9b2-4249-8cfd-49b4129d1770",
   "metadata": {},
   "outputs": [
    {
     "data": {
      "text/html": [
       "<div>\n",
       "<style scoped>\n",
       "    .dataframe tbody tr th:only-of-type {\n",
       "        vertical-align: middle;\n",
       "    }\n",
       "\n",
       "    .dataframe tbody tr th {\n",
       "        vertical-align: top;\n",
       "    }\n",
       "\n",
       "    .dataframe thead th {\n",
       "        text-align: right;\n",
       "    }\n",
       "</style>\n",
       "<table border=\"1\" class=\"dataframe\">\n",
       "  <thead>\n",
       "    <tr style=\"text-align: right;\">\n",
       "      <th></th>\n",
       "      <th>Weapon Name</th>\n",
       "      <th>Ammo Count</th>\n",
       "      <th>Description</th>\n",
       "      <th>Tags</th>\n",
       "      <th>Type</th>\n",
       "    </tr>\n",
       "  </thead>\n",
       "  <tbody>\n",
       "    <tr>\n",
       "      <th>0</th>\n",
       "      <td>RGS50</td>\n",
       "      <td>3</td>\n",
       "      <td>The anti-materiel Launcher (AML) can lock on t...</td>\n",
       "      <td>HIGH DAMAGE, DESTROYER</td>\n",
       "      <td>Melee</td>\n",
       "    </tr>\n",
       "    <tr>\n",
       "      <th>1</th>\n",
       "      <td>MGL140</td>\n",
       "      <td>5</td>\n",
       "      <td>Grenade launcher with mid-sized magazine, low ...</td>\n",
       "      <td>AREA OF EFFECT, HIGH DAMAGE</td>\n",
       "      <td>Rifle</td>\n",
       "    </tr>\n",
       "    <tr>\n",
       "      <th>2</th>\n",
       "      <td>M79</td>\n",
       "      <td>1</td>\n",
       "      <td>Deals area damage, requires skillful control.</td>\n",
       "      <td>AREA OF EFFECT, PROJECTILE</td>\n",
       "      <td>Launcher</td>\n",
       "    </tr>\n",
       "    <tr>\n",
       "      <th>3</th>\n",
       "      <td>GATLING</td>\n",
       "      <td>1200</td>\n",
       "      <td>Insane fire rate and power, but reduces mobility.</td>\n",
       "      <td>HIGH FIRE POWER, INSANE FIRE RATE</td>\n",
       "      <td>Marksman Rifle</td>\n",
       "    </tr>\n",
       "    <tr>\n",
       "      <th>4</th>\n",
       "      <td>M60</td>\n",
       "      <td>68</td>\n",
       "      <td>Large magazines and solid mid-range fire power.</td>\n",
       "      <td>MID RANGE, HIGH CLIP-SIZE</td>\n",
       "      <td>Projectile</td>\n",
       "    </tr>\n",
       "  </tbody>\n",
       "</table>\n",
       "</div>"
      ],
      "text/plain": [
       "  Weapon Name  Ammo Count                                        Description  \\\n",
       "0       RGS50           3  The anti-materiel Launcher (AML) can lock on t...   \n",
       "1      MGL140           5  Grenade launcher with mid-sized magazine, low ...   \n",
       "2         M79           1      Deals area damage, requires skillful control.   \n",
       "3     GATLING        1200  Insane fire rate and power, but reduces mobility.   \n",
       "4         M60          68    Large magazines and solid mid-range fire power.   \n",
       "\n",
       "                                Tags            Type  \n",
       "0             HIGH DAMAGE, DESTROYER           Melee  \n",
       "1        AREA OF EFFECT, HIGH DAMAGE           Rifle  \n",
       "2         AREA OF EFFECT, PROJECTILE        Launcher  \n",
       "3  HIGH FIRE POWER, INSANE FIRE RATE  Marksman Rifle  \n",
       "4          MID RANGE, HIGH CLIP-SIZE      Projectile  "
      ]
     },
     "execution_count": 6,
     "metadata": {},
     "output_type": "execute_result"
    }
   ],
   "source": [
    "df.head()"
   ]
  },
  {
   "cell_type": "code",
   "execution_count": 7,
   "id": "dbbdefd8-0683-41a8-9662-536281f20515",
   "metadata": {},
   "outputs": [
    {
     "data": {
      "text/html": [
       "<div>\n",
       "<style scoped>\n",
       "    .dataframe tbody tr th:only-of-type {\n",
       "        vertical-align: middle;\n",
       "    }\n",
       "\n",
       "    .dataframe tbody tr th {\n",
       "        vertical-align: top;\n",
       "    }\n",
       "\n",
       "    .dataframe thead th {\n",
       "        text-align: right;\n",
       "    }\n",
       "</style>\n",
       "<table border=\"1\" class=\"dataframe\">\n",
       "  <thead>\n",
       "    <tr style=\"text-align: right;\">\n",
       "      <th></th>\n",
       "      <th>Weapon Name</th>\n",
       "      <th>Ammo Count</th>\n",
       "      <th>Description</th>\n",
       "      <th>Tags</th>\n",
       "      <th>Type</th>\n",
       "    </tr>\n",
       "  </thead>\n",
       "  <tbody>\n",
       "    <tr>\n",
       "      <th>8</th>\n",
       "      <td>P90</td>\n",
       "      <td>58</td>\n",
       "      <td>High rate of fire, strong mid-range power.</td>\n",
       "      <td>SILENCED, INSANE FIRE RATE</td>\n",
       "      <td>Melee</td>\n",
       "    </tr>\n",
       "    <tr>\n",
       "      <th>53</th>\n",
       "      <td>KAR98K</td>\n",
       "      <td>5</td>\n",
       "      <td>A well-balanced sniper rifle pre-equipped with...</td>\n",
       "      <td>LONG RANGE, HIGH DAMAGE</td>\n",
       "      <td>Rifle</td>\n",
       "    </tr>\n",
       "    <tr>\n",
       "      <th>44</th>\n",
       "      <td>Charge Buster</td>\n",
       "      <td>3</td>\n",
       "      <td>A shotgun. Hold fire button to charge up damag...</td>\n",
       "      <td>OUTBRUST, CHARGED</td>\n",
       "      <td>Rifle</td>\n",
       "    </tr>\n",
       "    <tr>\n",
       "      <th>37</th>\n",
       "      <td>Healing Pistol</td>\n",
       "      <td>38</td>\n",
       "      <td>The Treatment Gun deals damage against enemies...</td>\n",
       "      <td>Healing, Close Range</td>\n",
       "      <td>Rifle</td>\n",
       "    </tr>\n",
       "    <tr>\n",
       "      <th>7</th>\n",
       "      <td>CG15</td>\n",
       "      <td>28</td>\n",
       "      <td>Charges to fire a high damage shot.</td>\n",
       "      <td>LONG RANGE, CHARGEABLE</td>\n",
       "      <td>Shotgun</td>\n",
       "    </tr>\n",
       "  </tbody>\n",
       "</table>\n",
       "</div>"
      ],
      "text/plain": [
       "       Weapon Name  Ammo Count  \\\n",
       "8              P90          58   \n",
       "53          KAR98K           5   \n",
       "44   Charge Buster           3   \n",
       "37  Healing Pistol          38   \n",
       "7             CG15          28   \n",
       "\n",
       "                                          Description  \\\n",
       "8          High rate of fire, strong mid-range power.   \n",
       "53  A well-balanced sniper rifle pre-equipped with...   \n",
       "44  A shotgun. Hold fire button to charge up damag...   \n",
       "37  The Treatment Gun deals damage against enemies...   \n",
       "7                 Charges to fire a high damage shot.   \n",
       "\n",
       "                          Tags     Type  \n",
       "8   SILENCED, INSANE FIRE RATE    Melee  \n",
       "53     LONG RANGE, HIGH DAMAGE    Rifle  \n",
       "44           OUTBRUST, CHARGED    Rifle  \n",
       "37        Healing, Close Range    Rifle  \n",
       "7       LONG RANGE, CHARGEABLE  Shotgun  "
      ]
     },
     "execution_count": 7,
     "metadata": {},
     "output_type": "execute_result"
    }
   ],
   "source": [
    "df.sample(5)"
   ]
  },
  {
   "cell_type": "code",
   "execution_count": 8,
   "id": "e04ba52a-d3cf-4f04-a7be-bd063023c547",
   "metadata": {},
   "outputs": [
    {
     "name": "stdout",
     "output_type": "stream",
     "text": [
      "<class 'pandas.core.frame.DataFrame'>\n",
      "RangeIndex: 68 entries, 0 to 67\n",
      "Data columns (total 5 columns):\n",
      " #   Column       Non-Null Count  Dtype \n",
      "---  ------       --------------  ----- \n",
      " 0   Weapon Name  68 non-null     object\n",
      " 1   Ammo Count   68 non-null     int64 \n",
      " 2   Description  68 non-null     object\n",
      " 3   Tags         68 non-null     object\n",
      " 4   Type         68 non-null     object\n",
      "dtypes: int64(1), object(4)\n",
      "memory usage: 2.8+ KB\n"
     ]
    }
   ],
   "source": [
    "df.info()"
   ]
  },
  {
   "cell_type": "code",
   "execution_count": 9,
   "id": "8f1a4f1b-0bf6-4524-9b78-efdba8f1932c",
   "metadata": {},
   "outputs": [
    {
     "data": {
      "text/plain": [
       "Weapon Name    0\n",
       "Ammo Count     0\n",
       "Description    0\n",
       "Tags           0\n",
       "Type           0\n",
       "dtype: int64"
      ]
     },
     "execution_count": 9,
     "metadata": {},
     "output_type": "execute_result"
    }
   ],
   "source": [
    "df.isnull().sum()"
   ]
  },
  {
   "cell_type": "code",
   "execution_count": 10,
   "id": "0d0b345e-9db9-44c9-ac6c-a195affa528a",
   "metadata": {},
   "outputs": [
    {
     "data": {
      "text/html": [
       "<div>\n",
       "<style scoped>\n",
       "    .dataframe tbody tr th:only-of-type {\n",
       "        vertical-align: middle;\n",
       "    }\n",
       "\n",
       "    .dataframe tbody tr th {\n",
       "        vertical-align: top;\n",
       "    }\n",
       "\n",
       "    .dataframe thead th {\n",
       "        text-align: right;\n",
       "    }\n",
       "</style>\n",
       "<table border=\"1\" class=\"dataframe\">\n",
       "  <thead>\n",
       "    <tr style=\"text-align: right;\">\n",
       "      <th></th>\n",
       "      <th>Ammo Count</th>\n",
       "    </tr>\n",
       "  </thead>\n",
       "  <tbody>\n",
       "    <tr>\n",
       "      <th>count</th>\n",
       "      <td>68.000000</td>\n",
       "    </tr>\n",
       "    <tr>\n",
       "      <th>mean</th>\n",
       "      <td>38.985294</td>\n",
       "    </tr>\n",
       "    <tr>\n",
       "      <th>std</th>\n",
       "      <td>144.409709</td>\n",
       "    </tr>\n",
       "    <tr>\n",
       "      <th>min</th>\n",
       "      <td>0.000000</td>\n",
       "    </tr>\n",
       "    <tr>\n",
       "      <th>25%</th>\n",
       "      <td>5.000000</td>\n",
       "    </tr>\n",
       "    <tr>\n",
       "      <th>50%</th>\n",
       "      <td>16.500000</td>\n",
       "    </tr>\n",
       "    <tr>\n",
       "      <th>75%</th>\n",
       "      <td>38.000000</td>\n",
       "    </tr>\n",
       "    <tr>\n",
       "      <th>max</th>\n",
       "      <td>1200.000000</td>\n",
       "    </tr>\n",
       "  </tbody>\n",
       "</table>\n",
       "</div>"
      ],
      "text/plain": [
       "        Ammo Count\n",
       "count    68.000000\n",
       "mean     38.985294\n",
       "std     144.409709\n",
       "min       0.000000\n",
       "25%       5.000000\n",
       "50%      16.500000\n",
       "75%      38.000000\n",
       "max    1200.000000"
      ]
     },
     "execution_count": 10,
     "metadata": {},
     "output_type": "execute_result"
    }
   ],
   "source": [
    "df.describe()"
   ]
  },
  {
   "cell_type": "code",
   "execution_count": null,
   "id": "74c22ee1-47a8-43cc-bf80-f55333f4fd45",
   "metadata": {},
   "outputs": [],
   "source": [
    "df"
   ]
  }
 ],
 "metadata": {
  "kernelspec": {
   "display_name": "Python [conda env:base] *",
   "language": "python",
   "name": "conda-base-py"
  },
  "language_info": {
   "codemirror_mode": {
    "name": "ipython",
    "version": 3
   },
   "file_extension": ".py",
   "mimetype": "text/x-python",
   "name": "python",
   "nbconvert_exporter": "python",
   "pygments_lexer": "ipython3",
   "version": "3.12.7"
  }
 },
 "nbformat": 4,
 "nbformat_minor": 5
}
